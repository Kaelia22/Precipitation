{
 "cells": [
  {
   "cell_type": "markdown",
   "metadata": {},
   "source": [
    "-----------\n",
    "## In this notebook:\n",
    "* Filter out QUEE rows\n",
    "* Create testing/training/validation DFs\n",
    "* Copy images into respective folders\n",
    "-----------"
   ]
  },
  {
   "cell_type": "code",
   "execution_count": 48,
   "metadata": {},
   "outputs": [],
   "source": [
    "import pandas as pd\n",
    "import numpy as np\n",
    "import cv2\n",
    "import os\n",
    "import glob\n",
    "import multiprocessing\n",
    "import shutil\n",
    "import matplotlib.pyplot as plt\n",
    "import matplotlib.image as mpimg\n",
    "\n",
    "import warnings\n",
    "warnings.filterwarnings(\"ignore\")"
   ]
  },
  {
   "cell_type": "markdown",
   "metadata": {},
   "source": [
    "## Load Precip DF"
   ]
  },
  {
   "cell_type": "code",
   "execution_count": 2,
   "metadata": {},
   "outputs": [],
   "source": [
    "day_precip_df = pd.read_pickle(\"../DFs/day_precip_df.pkl\")"
   ]
  },
  {
   "cell_type": "code",
   "execution_count": null,
   "metadata": {
    "tags": []
   },
   "outputs": [],
   "source": [
    "day_precip_df"
   ]
  },
  {
   "cell_type": "markdown",
   "metadata": {},
   "source": [
    "## Create QUEE Precip Testing/Valid Subset"
   ]
  },
  {
   "cell_type": "code",
   "execution_count": 3,
   "metadata": {},
   "outputs": [],
   "source": [
    "df_QUEE = day_precip_df.loc[day_precip_df['station']==b'QUEE']"
   ]
  },
  {
   "cell_type": "code",
   "execution_count": 4,
   "metadata": {},
   "outputs": [],
   "source": [
    "# change index\n",
    "df_QUEE['index'] = list(range(0,len(df_QUEE)))"
   ]
  },
  {
   "cell_type": "code",
   "execution_count": null,
   "metadata": {
    "tags": []
   },
   "outputs": [],
   "source": [
    "df_QUEE"
   ]
  },
  {
   "cell_type": "code",
   "execution_count": 5,
   "metadata": {},
   "outputs": [
    {
     "data": {
      "text/html": [
       "<div>\n",
       "<style scoped>\n",
       "    .dataframe tbody tr th:only-of-type {\n",
       "        vertical-align: middle;\n",
       "    }\n",
       "\n",
       "    .dataframe tbody tr th {\n",
       "        vertical-align: top;\n",
       "    }\n",
       "\n",
       "    .dataframe thead th {\n",
       "        text-align: right;\n",
       "    }\n",
       "</style>\n",
       "<table border=\"1\" class=\"dataframe\">\n",
       "  <thead>\n",
       "    <tr style=\"text-align: right;\">\n",
       "      <th></th>\n",
       "      <th>index</th>\n",
       "      <th>station</th>\n",
       "      <th>time_5M</th>\n",
       "      <th>tair</th>\n",
       "      <th>ta9m</th>\n",
       "      <th>precip</th>\n",
       "      <th>precip_total</th>\n",
       "      <th>precip_max_intensity</th>\n",
       "      <th>snow_depth</th>\n",
       "      <th>precip_diff</th>\n",
       "      <th>img_path</th>\n",
       "      <th>is_day</th>\n",
       "    </tr>\n",
       "  </thead>\n",
       "  <tbody>\n",
       "    <tr>\n",
       "      <th>1668109</th>\n",
       "      <td>6911</td>\n",
       "      <td>b'QUEE'</td>\n",
       "      <td>2020-01-03 10:00:00</td>\n",
       "      <td>7.24962</td>\n",
       "      <td>NaN</td>\n",
       "      <td>0.480011</td>\n",
       "      <td>378.420013</td>\n",
       "      <td>0.0</td>\n",
       "      <td>0.002577</td>\n",
       "      <td>0.23999</td>\n",
       "      <td>/tf/NYSM/archive/nysm/cam_photos/2020/01/03/QU...</td>\n",
       "      <td>True</td>\n",
       "    </tr>\n",
       "  </tbody>\n",
       "</table>\n",
       "</div>"
      ],
      "text/plain": [
       "         index  station             time_5M     tair  ta9m    precip  \\\n",
       "1668109   6911  b'QUEE' 2020-01-03 10:00:00  7.24962   NaN  0.480011   \n",
       "\n",
       "         precip_total  precip_max_intensity  snow_depth  precip_diff  \\\n",
       "1668109    378.420013                   0.0    0.002577      0.23999   \n",
       "\n",
       "                                                  img_path is_day  \n",
       "1668109  /tf/NYSM/archive/nysm/cam_photos/2020/01/03/QU...   True  "
      ]
     },
     "execution_count": 5,
     "metadata": {},
     "output_type": "execute_result"
    }
   ],
   "source": [
    "df_QUEE.loc[df_QUEE['time_5M']=='2020-01-03 10:00:00']"
   ]
  },
  {
   "cell_type": "code",
   "execution_count": 6,
   "metadata": {},
   "outputs": [],
   "source": [
    "# create a df with images up to 2019 (save 2020 for testing)\n",
    "df_QUEE_2019 = df_QUEE[(df_QUEE['time_5M'] < '2020-01-03 10:00:00')]"
   ]
  },
  {
   "cell_type": "code",
   "execution_count": 7,
   "metadata": {},
   "outputs": [
    {
     "data": {
      "text/plain": [
       "508647     /tf/NYSM/archive/nysm/cam_photos/2017/10/29/QU...\n",
       "508648     /tf/NYSM/archive/nysm/cam_photos/2017/10/29/QU...\n",
       "508649     /tf/NYSM/archive/nysm/cam_photos/2017/10/29/QU...\n",
       "508650     /tf/NYSM/archive/nysm/cam_photos/2017/10/29/QU...\n",
       "508651     /tf/NYSM/archive/nysm/cam_photos/2017/10/29/QU...\n",
       "                                 ...                        \n",
       "1620192    /tf/NYSM/archive/nysm/cam_photos/2019/12/30/QU...\n",
       "1620193    /tf/NYSM/archive/nysm/cam_photos/2019/12/30/QU...\n",
       "1620194    /tf/NYSM/archive/nysm/cam_photos/2019/12/30/QU...\n",
       "1620195    /tf/NYSM/archive/nysm/cam_photos/2019/12/30/QU...\n",
       "1620196    /tf/NYSM/archive/nysm/cam_photos/2019/12/30/QU...\n",
       "Name: img_path, Length: 6911, dtype: object"
      ]
     },
     "execution_count": 7,
     "metadata": {},
     "output_type": "execute_result"
    }
   ],
   "source": [
    "# create a df with just the images\n",
    "df_QUEE_2019_WP_imgs = df_QUEE_2019['img_path']\n",
    "df_QUEE_2019_WP_imgs"
   ]
  },
  {
   "cell_type": "code",
   "execution_count": null,
   "metadata": {},
   "outputs": [],
   "source": [
    "len(df_QUEE_2019)"
   ]
  },
  {
   "cell_type": "code",
   "execution_count": 5,
   "metadata": {},
   "outputs": [],
   "source": [
    "# create a df with images 2020+\n",
    "df_QUEE_2020 = df_QUEE[(df_QUEE['time_5M'] > '2020-01-03 10:00:00')]\n",
    "\n",
    "#len(df_QUEE_2020)\n",
    "#df_QUEE_2020['img_path'].iloc[456]"
   ]
  },
  {
   "cell_type": "code",
   "execution_count": 23,
   "metadata": {},
   "outputs": [
    {
     "data": {
      "text/html": [
       "<div>\n",
       "<style scoped>\n",
       "    .dataframe tbody tr th:only-of-type {\n",
       "        vertical-align: middle;\n",
       "    }\n",
       "\n",
       "    .dataframe tbody tr th {\n",
       "        vertical-align: top;\n",
       "    }\n",
       "\n",
       "    .dataframe thead th {\n",
       "        text-align: right;\n",
       "    }\n",
       "</style>\n",
       "<table border=\"1\" class=\"dataframe\">\n",
       "  <thead>\n",
       "    <tr style=\"text-align: right;\">\n",
       "      <th></th>\n",
       "      <th>index</th>\n",
       "      <th>station</th>\n",
       "      <th>time_5M</th>\n",
       "      <th>tair</th>\n",
       "      <th>ta9m</th>\n",
       "      <th>precip</th>\n",
       "      <th>precip_total</th>\n",
       "      <th>precip_max_intensity</th>\n",
       "      <th>snow_depth</th>\n",
       "      <th>precip_diff</th>\n",
       "      <th>img_path</th>\n",
       "      <th>is_day</th>\n",
       "    </tr>\n",
       "  </thead>\n",
       "  <tbody>\n",
       "    <tr>\n",
       "      <th>1901302</th>\n",
       "      <td>955</td>\n",
       "      <td>b'QUEE'</td>\n",
       "      <td>2020-08-01</td>\n",
       "      <td>25.608931</td>\n",
       "      <td>NaN</td>\n",
       "      <td>23.799995</td>\n",
       "      <td>142.509995</td>\n",
       "      <td>0.0</td>\n",
       "      <td>NaN</td>\n",
       "      <td>23.799995</td>\n",
       "      <td>/tf/NYSM/archive/nysm/cam_photos/2020/08/01/QU...</td>\n",
       "      <td>True</td>\n",
       "    </tr>\n",
       "  </tbody>\n",
       "</table>\n",
       "</div>"
      ],
      "text/plain": [
       "         index  station    time_5M       tair  ta9m     precip  precip_total  \\\n",
       "1901302    955  b'QUEE' 2020-08-01  25.608931   NaN  23.799995    142.509995   \n",
       "\n",
       "         precip_max_intensity  snow_depth  precip_diff  \\\n",
       "1901302                   0.0         NaN    23.799995   \n",
       "\n",
       "                                                  img_path is_day  \n",
       "1901302  /tf/NYSM/archive/nysm/cam_photos/2020/08/01/QU...   True  "
      ]
     },
     "execution_count": 23,
     "metadata": {},
     "output_type": "execute_result"
    }
   ],
   "source": [
    "df_QUEE_2020[df_QUEE_2020['precip_diff']==np.max(df_QUEE_2020['precip_diff'])]"
   ]
  },
  {
   "cell_type": "code",
   "execution_count": 21,
   "metadata": {},
   "outputs": [],
   "source": [
    "# change index\n",
    "df_QUEE_2020['index'] = list(range(0,len(df_QUEE_2020)))"
   ]
  },
  {
   "cell_type": "code",
   "execution_count": 47,
   "metadata": {},
   "outputs": [
    {
     "data": {
      "text/plain": [
       "'/tf/NYSM/archive/nysm/cam_photos/2020/01/18/QUEE/20200118T211028_QUEE.jpg'"
      ]
     },
     "execution_count": 47,
     "metadata": {},
     "output_type": "execute_result"
    }
   ],
   "source": [
    "df_QUEE_2020['img_path'].iloc[25]"
   ]
  },
  {
   "cell_type": "code",
   "execution_count": 46,
   "metadata": {},
   "outputs": [
    {
     "data": {
      "image/png": "[encoded data removed]",
      "text/plain": [
       "<Figure size 432x288 with 1 Axes>"
      ]
     },
     "metadata": {
      "needs_background": "light"
     },
     "output_type": "display_data"
    }
   ],
   "source": [
    "img = mpimg.imread(df_QUEE_2020['img_path'].iloc[25])\n",
    "plt.imshow(img)\n",
    "\n",
    "plt.show()"
   ]
  },
  {
   "cell_type": "markdown",
   "metadata": {},
   "source": [
    "## Copy WP images to respective folder"
   ]
  },
  {
   "cell_type": "markdown",
   "metadata": {
    "jupyter": {
     "source_hidden": true
    },
    "tags": []
   },
   "source": [
    "df_QUEE_2019_WP_imgs.iloc[0]"
   ]
  },
  {
   "cell_type": "code",
   "execution_count": null,
   "metadata": {
    "jupyter": {
     "source_hidden": true
    },
    "tags": []
   },
   "outputs": [],
   "source": [
    "destination = \"/tf/kokamura/Precip/QUEE-2cl/WP\"\n",
    "os.symlink(df_QUEE_2019_WP_imgs.iloc[0], destination)"
   ]
  },
  {
   "cell_type": "code",
   "execution_count": 9,
   "metadata": {},
   "outputs": [],
   "source": [
    "# copy images into no precip folder\n",
    "destination = \"/tf/kokamura/Precip/3st-2cl/WP\"\n",
    "for image in df_QUEE_2019_WP_imgs:\n",
    "    shutil.copy(image, destination)"
   ]
  },
  {
   "cell_type": "markdown",
   "metadata": {},
   "source": [
    "#### Potentially learn how to use os.symlink when using more images"
   ]
  },
  {
   "cell_type": "markdown",
   "metadata": {},
   "source": [
    "----------\n",
    "## Load No Precip DF"
   ]
  },
  {
   "cell_type": "code",
   "execution_count": 6,
   "metadata": {},
   "outputs": [],
   "source": [
    "no_precip_df_images = pd.read_pickle(\"../DFs/no_precip_df_images.pkl\")"
   ]
  },
  {
   "cell_type": "markdown",
   "metadata": {},
   "source": [
    "## Create Subset"
   ]
  },
  {
   "cell_type": "code",
   "execution_count": 7,
   "metadata": {},
   "outputs": [],
   "source": [
    "# create QUEE subset\n",
    "NP_df_QUEE = no_precip_df_images.loc[no_precip_df_images['station']==b'QUEE']"
   ]
  },
  {
   "cell_type": "code",
   "execution_count": null,
   "metadata": {},
   "outputs": [],
   "source": [
    "len(NP_df_QUEE)"
   ]
  },
  {
   "cell_type": "code",
   "execution_count": null,
   "metadata": {
    "tags": []
   },
   "outputs": [],
   "source": [
    "NP_df_QUEE"
   ]
  },
  {
   "cell_type": "code",
   "execution_count": 12,
   "metadata": {
    "tags": []
   },
   "outputs": [],
   "source": [
    "# define functions\n",
    "\n",
    "# determine day images\n",
    "def is_day(path):\n",
    "    image = cv2.imread(path)\n",
    "    b,g,r = image[:,:,0], image[:,:,1], image[:,:,2]\n",
    "    if (b==g).all() and (b==r).all(): return None\n",
    "    else: return True\n",
    "    \n",
    "# filter out day images\n",
    "def loopy_d(df):\n",
    "    output2_df = df.copy()\n",
    "    output2_df['is_day'] = output2_df['img_path'].apply(\n",
    "        lambda x: is_day(x)\n",
    "    )\n",
    "    return output2_df"
   ]
  },
  {
   "cell_type": "code",
   "execution_count": null,
   "metadata": {
    "tags": []
   },
   "outputs": [],
   "source": [
    "# filter out day images\n",
    "NUM_CORES = 10\n",
    "df_chunks = np.array_split(NP_df_QUEE, NUM_CORES)\n",
    "\n",
    "with multiprocessing.Pool(NUM_CORES) as pool:\n",
    "    no_df_QUEE = pd.concat(pool.map(loopy_d, df_chunks), ignore_index = True)"
   ]
  },
  {
   "cell_type": "code",
   "execution_count": null,
   "metadata": {
    "jupyter": {
     "source_hidden": true
    },
    "tags": []
   },
   "outputs": [],
   "source": [
    "no_df_QUEE['is_day'].isnull().sum()"
   ]
  },
  {
   "cell_type": "code",
   "execution_count": null,
   "metadata": {
    "jupyter": {
     "source_hidden": true
    },
    "tags": []
   },
   "outputs": [],
   "source": [
    "QUEE_no_df = no_df_QUEE.loc[no_df_QUEE['is_day'].notnull()]\n",
    "QUEE_no_df"
   ]
  },
  {
   "cell_type": "markdown",
   "metadata": {},
   "source": [
    "## Sanity Check"
   ]
  },
  {
   "cell_type": "code",
   "execution_count": 13,
   "metadata": {
    "collapsed": true,
    "jupyter": {
     "outputs_hidden": true
    },
    "tags": []
   },
   "outputs": [
    {
     "data": {
      "text/html": [
       "<div>\n",
       "<style scoped>\n",
       "    .dataframe tbody tr th:only-of-type {\n",
       "        vertical-align: middle;\n",
       "    }\n",
       "\n",
       "    .dataframe tbody tr th {\n",
       "        vertical-align: top;\n",
       "    }\n",
       "\n",
       "    .dataframe thead th {\n",
       "        text-align: right;\n",
       "    }\n",
       "</style>\n",
       "<table border=\"1\" class=\"dataframe\">\n",
       "  <thead>\n",
       "    <tr style=\"text-align: right;\">\n",
       "      <th></th>\n",
       "      <th>index</th>\n",
       "      <th>station</th>\n",
       "      <th>time_5M</th>\n",
       "      <th>tair</th>\n",
       "      <th>ta9m</th>\n",
       "      <th>precip</th>\n",
       "      <th>precip_total</th>\n",
       "      <th>precip_max_intensity</th>\n",
       "      <th>snow_depth</th>\n",
       "      <th>precip_diff</th>\n",
       "      <th>img_path</th>\n",
       "    </tr>\n",
       "  </thead>\n",
       "  <tbody>\n",
       "    <tr>\n",
       "      <th>13415687</th>\n",
       "      <td>0</td>\n",
       "      <td>b'QUEE'</td>\n",
       "      <td>2017-10-29 01:00:00</td>\n",
       "      <td>17.715380</td>\n",
       "      <td>NaN</td>\n",
       "      <td>0.000000</td>\n",
       "      <td>194.830002</td>\n",
       "      <td>0.0</td>\n",
       "      <td>0.000835</td>\n",
       "      <td>0.0</td>\n",
       "      <td>/tf/NYSM/archive/nysm/cam_photos/2017/10/29/QU...</td>\n",
       "    </tr>\n",
       "    <tr>\n",
       "      <th>13415699</th>\n",
       "      <td>1</td>\n",
       "      <td>b'QUEE'</td>\n",
       "      <td>2017-10-29 02:00:00</td>\n",
       "      <td>17.575270</td>\n",
       "      <td>NaN</td>\n",
       "      <td>0.000000</td>\n",
       "      <td>194.830002</td>\n",
       "      <td>0.0</td>\n",
       "      <td>0.001233</td>\n",
       "      <td>0.0</td>\n",
       "      <td>/tf/NYSM/archive/nysm/cam_photos/2017/10/29/QU...</td>\n",
       "    </tr>\n",
       "    <tr>\n",
       "      <th>13415710</th>\n",
       "      <td>2</td>\n",
       "      <td>b'QUEE'</td>\n",
       "      <td>2017-10-29 03:00:00</td>\n",
       "      <td>17.936840</td>\n",
       "      <td>NaN</td>\n",
       "      <td>0.050003</td>\n",
       "      <td>194.880005</td>\n",
       "      <td>0.0</td>\n",
       "      <td>0.000205</td>\n",
       "      <td>0.0</td>\n",
       "      <td>/tf/NYSM/archive/nysm/cam_photos/2017/10/29/QU...</td>\n",
       "    </tr>\n",
       "    <tr>\n",
       "      <th>13415721</th>\n",
       "      <td>3</td>\n",
       "      <td>b'QUEE'</td>\n",
       "      <td>2017-10-29 04:00:00</td>\n",
       "      <td>17.845510</td>\n",
       "      <td>NaN</td>\n",
       "      <td>0.099991</td>\n",
       "      <td>194.929993</td>\n",
       "      <td>0.0</td>\n",
       "      <td>0.000465</td>\n",
       "      <td>0.0</td>\n",
       "      <td>/tf/NYSM/archive/nysm/cam_photos/2017/10/29/QU...</td>\n",
       "    </tr>\n",
       "    <tr>\n",
       "      <th>13415733</th>\n",
       "      <td>4</td>\n",
       "      <td>b'QUEE'</td>\n",
       "      <td>2017-10-29 05:00:00</td>\n",
       "      <td>17.855841</td>\n",
       "      <td>NaN</td>\n",
       "      <td>0.099991</td>\n",
       "      <td>194.929993</td>\n",
       "      <td>0.0</td>\n",
       "      <td>0.000435</td>\n",
       "      <td>0.0</td>\n",
       "      <td>/tf/NYSM/archive/nysm/cam_photos/2017/10/29/QU...</td>\n",
       "    </tr>\n",
       "    <tr>\n",
       "      <th>...</th>\n",
       "      <td>...</td>\n",
       "      <td>...</td>\n",
       "      <td>...</td>\n",
       "      <td>...</td>\n",
       "      <td>...</td>\n",
       "      <td>...</td>\n",
       "      <td>...</td>\n",
       "      <td>...</td>\n",
       "      <td>...</td>\n",
       "      <td>...</td>\n",
       "      <td>...</td>\n",
       "    </tr>\n",
       "    <tr>\n",
       "      <th>51615387</th>\n",
       "      <td>185082</td>\n",
       "      <td>b'QUEE'</td>\n",
       "      <td>2020-12-31 22:25:00</td>\n",
       "      <td>4.928528</td>\n",
       "      <td>NaN</td>\n",
       "      <td>13.939987</td>\n",
       "      <td>153.929993</td>\n",
       "      <td>0.0</td>\n",
       "      <td>-0.006747</td>\n",
       "      <td>0.0</td>\n",
       "      <td>/tf/NYSM/archive/nysm/cam_photos/2020/12/31/QU...</td>\n",
       "    </tr>\n",
       "    <tr>\n",
       "      <th>51615388</th>\n",
       "      <td>185083</td>\n",
       "      <td>b'QUEE'</td>\n",
       "      <td>2020-12-31 22:30:00</td>\n",
       "      <td>4.929366</td>\n",
       "      <td>NaN</td>\n",
       "      <td>13.939987</td>\n",
       "      <td>153.929993</td>\n",
       "      <td>0.0</td>\n",
       "      <td>-0.006750</td>\n",
       "      <td>0.0</td>\n",
       "      <td>/tf/NYSM/archive/nysm/cam_photos/2020/12/31/QU...</td>\n",
       "    </tr>\n",
       "    <tr>\n",
       "      <th>51615389</th>\n",
       "      <td>185084</td>\n",
       "      <td>b'QUEE'</td>\n",
       "      <td>2020-12-31 22:35:00</td>\n",
       "      <td>4.933015</td>\n",
       "      <td>NaN</td>\n",
       "      <td>13.939987</td>\n",
       "      <td>153.929993</td>\n",
       "      <td>0.0</td>\n",
       "      <td>-0.003734</td>\n",
       "      <td>0.0</td>\n",
       "      <td>/tf/NYSM/archive/nysm/cam_photos/2020/12/31/QU...</td>\n",
       "    </tr>\n",
       "    <tr>\n",
       "      <th>51615390</th>\n",
       "      <td>185085</td>\n",
       "      <td>b'QUEE'</td>\n",
       "      <td>2020-12-31 22:40:00</td>\n",
       "      <td>4.925432</td>\n",
       "      <td>NaN</td>\n",
       "      <td>13.939987</td>\n",
       "      <td>153.929993</td>\n",
       "      <td>0.0</td>\n",
       "      <td>-0.006738</td>\n",
       "      <td>0.0</td>\n",
       "      <td>/tf/NYSM/archive/nysm/cam_photos/2020/12/31/QU...</td>\n",
       "    </tr>\n",
       "    <tr>\n",
       "      <th>51615394</th>\n",
       "      <td>185086</td>\n",
       "      <td>b'QUEE'</td>\n",
       "      <td>2020-12-31 23:00:00</td>\n",
       "      <td>4.837123</td>\n",
       "      <td>NaN</td>\n",
       "      <td>13.939987</td>\n",
       "      <td>153.929993</td>\n",
       "      <td>0.0</td>\n",
       "      <td>-0.006475</td>\n",
       "      <td>0.0</td>\n",
       "      <td>/tf/NYSM/archive/nysm/cam_photos/2020/12/31/QU...</td>\n",
       "    </tr>\n",
       "  </tbody>\n",
       "</table>\n",
       "<p>185087 rows × 11 columns</p>\n",
       "</div>"
      ],
      "text/plain": [
       "           index  station             time_5M       tair  ta9m     precip  \\\n",
       "13415687       0  b'QUEE' 2017-10-29 01:00:00  17.715380   NaN   0.000000   \n",
       "13415699       1  b'QUEE' 2017-10-29 02:00:00  17.575270   NaN   0.000000   \n",
       "13415710       2  b'QUEE' 2017-10-29 03:00:00  17.936840   NaN   0.050003   \n",
       "13415721       3  b'QUEE' 2017-10-29 04:00:00  17.845510   NaN   0.099991   \n",
       "13415733       4  b'QUEE' 2017-10-29 05:00:00  17.855841   NaN   0.099991   \n",
       "...          ...      ...                 ...        ...   ...        ...   \n",
       "51615387  185082  b'QUEE' 2020-12-31 22:25:00   4.928528   NaN  13.939987   \n",
       "51615388  185083  b'QUEE' 2020-12-31 22:30:00   4.929366   NaN  13.939987   \n",
       "51615389  185084  b'QUEE' 2020-12-31 22:35:00   4.933015   NaN  13.939987   \n",
       "51615390  185085  b'QUEE' 2020-12-31 22:40:00   4.925432   NaN  13.939987   \n",
       "51615394  185086  b'QUEE' 2020-12-31 23:00:00   4.837123   NaN  13.939987   \n",
       "\n",
       "          precip_total  precip_max_intensity  snow_depth  precip_diff  \\\n",
       "13415687    194.830002                   0.0    0.000835          0.0   \n",
       "13415699    194.830002                   0.0    0.001233          0.0   \n",
       "13415710    194.880005                   0.0    0.000205          0.0   \n",
       "13415721    194.929993                   0.0    0.000465          0.0   \n",
       "13415733    194.929993                   0.0    0.000435          0.0   \n",
       "...                ...                   ...         ...          ...   \n",
       "51615387    153.929993                   0.0   -0.006747          0.0   \n",
       "51615388    153.929993                   0.0   -0.006750          0.0   \n",
       "51615389    153.929993                   0.0   -0.003734          0.0   \n",
       "51615390    153.929993                   0.0   -0.006738          0.0   \n",
       "51615394    153.929993                   0.0   -0.006475          0.0   \n",
       "\n",
       "                                                   img_path  \n",
       "13415687  /tf/NYSM/archive/nysm/cam_photos/2017/10/29/QU...  \n",
       "13415699  /tf/NYSM/archive/nysm/cam_photos/2017/10/29/QU...  \n",
       "13415710  /tf/NYSM/archive/nysm/cam_photos/2017/10/29/QU...  \n",
       "13415721  /tf/NYSM/archive/nysm/cam_photos/2017/10/29/QU...  \n",
       "13415733  /tf/NYSM/archive/nysm/cam_photos/2017/10/29/QU...  \n",
       "...                                                     ...  \n",
       "51615387  /tf/NYSM/archive/nysm/cam_photos/2020/12/31/QU...  \n",
       "51615388  /tf/NYSM/archive/nysm/cam_photos/2020/12/31/QU...  \n",
       "51615389  /tf/NYSM/archive/nysm/cam_photos/2020/12/31/QU...  \n",
       "51615390  /tf/NYSM/archive/nysm/cam_photos/2020/12/31/QU...  \n",
       "51615394  /tf/NYSM/archive/nysm/cam_photos/2020/12/31/QU...  \n",
       "\n",
       "[185087 rows x 11 columns]"
      ]
     },
     "execution_count": 13,
     "metadata": {},
     "output_type": "execute_result"
    }
   ],
   "source": [
    "# change index\n",
    "NP_df_QUEE['index'] = list(range(0,len(NP_df_QUEE)))\n",
    "NP_df_QUEE"
   ]
  },
  {
   "cell_type": "code",
   "execution_count": null,
   "metadata": {},
   "outputs": [],
   "source": [
    "NP_df_QUEE['img_path'].iloc[567]"
   ]
  },
  {
   "cell_type": "code",
   "execution_count": null,
   "metadata": {},
   "outputs": [],
   "source": [
    "img = mpimg.imread(NP_df_QUEE['img_path'].iloc[567])\n",
    "plt.imshow(img)\n",
    "\n",
    "plt.show()"
   ]
  },
  {
   "cell_type": "code",
   "execution_count": null,
   "metadata": {},
   "outputs": [],
   "source": [
    "len(QUEE_no_df)"
   ]
  },
  {
   "cell_type": "markdown",
   "metadata": {},
   "source": [
    "## Create QUEE NP Testing/Valid Subset"
   ]
  },
  {
   "cell_type": "code",
   "execution_count": null,
   "metadata": {
    "tags": []
   },
   "outputs": [],
   "source": [
    "NP_QUEE_df.iloc[121833]"
   ]
  },
  {
   "cell_type": "code",
   "execution_count": 14,
   "metadata": {},
   "outputs": [],
   "source": [
    "# create a df with images up to 2019 (save 2020 for testing)\n",
    "NP_QUEE_df_2019 = NP_df_QUEE[(NP_df_QUEE['time_5M'] < '2020-01-01 00:00:00')]"
   ]
  },
  {
   "cell_type": "code",
   "execution_count": null,
   "metadata": {
    "tags": []
   },
   "outputs": [],
   "source": [
    "NP_QUEE_df_2019"
   ]
  },
  {
   "cell_type": "code",
   "execution_count": 15,
   "metadata": {},
   "outputs": [
    {
     "data": {
      "text/plain": [
       "13415687    /tf/NYSM/archive/nysm/cam_photos/2017/10/29/QU...\n",
       "13415699    /tf/NYSM/archive/nysm/cam_photos/2017/10/29/QU...\n",
       "13415710    /tf/NYSM/archive/nysm/cam_photos/2017/10/29/QU...\n",
       "13415721    /tf/NYSM/archive/nysm/cam_photos/2017/10/29/QU...\n",
       "13415733    /tf/NYSM/archive/nysm/cam_photos/2017/10/29/QU...\n",
       "                                  ...                        \n",
       "39382267    /tf/NYSM/archive/nysm/cam_photos/2019/12/31/QU...\n",
       "39382268    /tf/NYSM/archive/nysm/cam_photos/2019/12/31/QU...\n",
       "39382269    /tf/NYSM/archive/nysm/cam_photos/2019/12/31/QU...\n",
       "39382270    /tf/NYSM/archive/nysm/cam_photos/2019/12/31/QU...\n",
       "39382274    /tf/NYSM/archive/nysm/cam_photos/2019/12/31/QU...\n",
       "Name: img_path, Length: 121833, dtype: object"
      ]
     },
     "execution_count": 15,
     "metadata": {},
     "output_type": "execute_result"
    }
   ],
   "source": [
    "# create a df with just the images\n",
    "NP_df_QUEE_2019_imgs = NP_QUEE_df_2019['img_path']\n",
    "NP_df_QUEE_2019_imgs"
   ]
  },
  {
   "cell_type": "markdown",
   "metadata": {},
   "source": [
    "## Copy NP images to respective folder"
   ]
  },
  {
   "cell_type": "code",
   "execution_count": null,
   "metadata": {},
   "outputs": [],
   "source": [
    "6911/(6911 + 121833) # only 5% of all images contain precipitation"
   ]
  },
  {
   "cell_type": "code",
   "execution_count": 16,
   "metadata": {},
   "outputs": [],
   "source": [
    "# chose 7,000 random images to copy over to NP folder\n",
    "NP_QUEE_img_sample = NP_df_QUEE_2019_imgs.sample(7000, random_state=1)"
   ]
  },
  {
   "cell_type": "code",
   "execution_count": 17,
   "metadata": {},
   "outputs": [],
   "source": [
    "# copy images into no precip folder\n",
    "destination = \"/tf/kokamura/Precip/3st-2cl/NP\"\n",
    "for image in NP_QUEE_img_sample:\n",
    "    shutil.copy(image, destination)"
   ]
  },
  {
   "cell_type": "code",
   "execution_count": null,
   "metadata": {},
   "outputs": [],
   "source": []
  }
 ],
 "metadata": {
  "kernelspec": {
   "display_name": "Python 3",
   "language": "python",
   "name": "python3"
  },
  "language_info": {
   "codemirror_mode": {
    "name": "ipython",
    "version": 3
   },
   "file_extension": ".py",
   "mimetype": "text/x-python",
   "name": "python",
   "nbconvert_exporter": "python",
   "pygments_lexer": "ipython3",
   "version": "3.6.9"
  }
 },
 "nbformat": 4,
 "nbformat_minor": 4
}
