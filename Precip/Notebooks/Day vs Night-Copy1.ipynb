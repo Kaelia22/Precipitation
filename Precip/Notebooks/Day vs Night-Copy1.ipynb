{
 "cells": [
  {
   "cell_type": "markdown",
   "metadata": {},
   "source": [
    "-----------\n",
    "## In this notebook:\n",
    "* Filter out rows without a path\n",
    "* Filter out day images\n",
    "-----------"
   ]
  },
  {
   "cell_type": "code",
   "execution_count": null,
   "metadata": {},
   "outputs": [],
   "source": [
    "import pandas as pd\n",
    "import numpy as np\n",
    "import cv2\n",
    "import os\n",
    "import glob\n",
    "import multiprocessing\n",
    "import shutil\n",
    "import matplotlib.pyplot as plt\n",
    "import matplotlib.image as mpimg\n",
    "\n",
    "import warnings\n",
    "warnings.filterwarnings(\"ignore\")"
   ]
  },
  {
   "cell_type": "markdown",
   "metadata": {},
   "source": [
    "## Define functions"
   ]
  },
  {
   "cell_type": "code",
   "execution_count": null,
   "metadata": {},
   "outputs": [],
   "source": [
    "# remove rows without path\n",
    "def get_path(x):\n",
    "    nysm_dir = '/tf/NYSM/archive/nysm/cam_photos/' # get path for images\n",
    "    time = x['time_5M'] # select the time stamp of each image\n",
    "    date_path = nysm_dir+time.strftime('%Y')+'/'+time.strftime('%m')+'/'+time.strftime('%d') # convert into a readable string\n",
    "    site_path = date_path+'/'+x['station'].decode(\"utf-8\")  \n",
    "    file_path = site_path+'/'+time.strftime('%Y%m%dT%H%M')+'*'\n",
    "    if(os.path.exists(site_path) and len(glob.glob(file_path))>0):\n",
    "        return glob.glob(file_path)[0]\n",
    "    else: return None\n",
    "    \n",
    "\n",
    "def loopy(df):\n",
    "    output_df = df.copy()\n",
    "    output_df['img_path'] = output_df.apply(\n",
    "        lambda x: get_path(x),\n",
    "        axis = 1\n",
    "    )\n",
    "    return output_df"
   ]
  },
  {
   "cell_type": "code",
   "execution_count": null,
   "metadata": {},
   "outputs": [],
   "source": [
    "# determine day images\n",
    "def is_day(path):\n",
    "    image = cv2.imread(path)\n",
    "    b,g,r = image[:,:,0], image[:,:,1], image[:,:,2]\n",
    "    if (b==g).all() and (b==r).all(): return None\n",
    "    else: return True\n",
    "    \n",
    "# filter out day images\n",
    "def loopy_d(df):\n",
    "    output2_df = df.copy()\n",
    "    output2_df['is_day'] = output2_df['img_path'].apply(\n",
    "        lambda x: is_day(x)\n",
    "    )\n",
    "    return output2_df"
   ]
  },
  {
   "cell_type": "code",
   "execution_count": null,
   "metadata": {},
   "outputs": [],
   "source": [
    "# determine night images\n",
    "def is_night(path):\n",
    "    image = cv2.imread(path)\n",
    "    b,g,r = image[:,:,0], image[:,:,1], image[:,:,2]\n",
    "    if (b==g).all() and (b==r).all(): return True\n",
    "    else: return None\n",
    "\n",
    "# filter out night images\n",
    "def loopy_n(df):\n",
    "    output3_df = df.copy()\n",
    "    output3_df['is_night'] = output3_df['img_path'].apply(\n",
    "        lambda x: is_night(x)\n",
    "    )\n",
    "    return output3_df"
   ]
  },
  {
   "cell_type": "markdown",
   "metadata": {},
   "source": [
    "## Load DFs"
   ]
  },
  {
   "cell_type": "code",
   "execution_count": null,
   "metadata": {},
   "outputs": [],
   "source": [
    "# read in DFs\n",
    "precip_df = pd.read_pickle(\"../DFs/precip_df.pkl\")\n",
    "no_precip_df = pd.read_pickle(\"../DFs/no_precip_df.pkl\")"
   ]
  },
  {
   "cell_type": "markdown",
   "metadata": {},
   "source": [
    "## Working with Precip DF"
   ]
  },
  {
   "cell_type": "code",
   "execution_count": null,
   "metadata": {},
   "outputs": [],
   "source": [
    "# first filter out rows without a path for precip\n",
    "NUM_CORES = 10\n",
    "df_chunks = np.array_split(precip_df, NUM_CORES)\n",
    "\n",
    "with multiprocessing.Pool(NUM_CORES) as pool:\n",
    "    df = pd.concat(pool.map(loopy, df_chunks), ignore_index = True)"
   ]
  },
  {
   "cell_type": "code",
   "execution_count": null,
   "metadata": {
    "tags": []
   },
   "outputs": [],
   "source": [
    "#filter out images with no path\n",
    "precip_df_images = df.loc[df['img_path'].notnull()]\n",
    "precip_df_images"
   ]
  },
  {
   "cell_type": "markdown",
   "metadata": {},
   "source": [
    "## Filter out Preicp Day Images"
   ]
  },
  {
   "cell_type": "code",
   "execution_count": null,
   "metadata": {},
   "outputs": [],
   "source": [
    "# next filter out day imgages for precip\n",
    "NUM_CORES = 10\n",
    "df_chunks = np.array_split(precip_df_images, NUM_CORES)\n",
    "\n",
    "with multiprocessing.Pool(NUM_CORES) as pool:\n",
    "    precip_day_df = pd.concat(pool.map(loopy_d, df_chunks), ignore_index = True)"
   ]
  },
  {
   "cell_type": "code",
   "execution_count": null,
   "metadata": {
    "tags": []
   },
   "outputs": [],
   "source": [
    "day_precip_df = precip_day_df.loc[precip_day_df['is_day'].notnull()]\n",
    "day_precip_df"
   ]
  },
  {
   "cell_type": "markdown",
   "metadata": {},
   "source": [
    "## Sanity Check"
   ]
  },
  {
   "cell_type": "code",
   "execution_count": null,
   "metadata": {},
   "outputs": [],
   "source": [
    "day_precip_df = pd.read_pickle(\"DFs/day_precip_df.pkl\")"
   ]
  },
  {
   "cell_type": "code",
   "execution_count": null,
   "metadata": {
    "tags": []
   },
   "outputs": [],
   "source": [
    "# change index\n",
    "day_precip_df['index'] = list(range(0,len(day_precip_df)))"
   ]
  },
  {
   "cell_type": "code",
   "execution_count": null,
   "metadata": {},
   "outputs": [],
   "source": [
    "# should be colored\n",
    "img = mpimg.imread(day_precip_df['img_path'][1584823])\n",
    "plt.imshow(img)\n",
    "\n",
    "plt.show()"
   ]
  },
  {
   "cell_type": "code",
   "execution_count": null,
   "metadata": {},
   "outputs": [],
   "source": [
    "# save df\n",
    "day_precip_df.to_pickle(\"DFs/day_precip_df.pkl\")"
   ]
  },
  {
   "cell_type": "markdown",
   "metadata": {},
   "source": [
    "## Filter out Precip Night Images"
   ]
  },
  {
   "cell_type": "code",
   "execution_count": null,
   "metadata": {},
   "outputs": [],
   "source": [
    "# next filter out day imgages for precip\n",
    "NUM_CORES = 10\n",
    "df_chunks = np.array_split(precip_df_images, NUM_CORES)\n",
    "\n",
    "with multiprocessing.Pool(NUM_CORES) as pool:\n",
    "    precip_night_df = pd.concat(pool.map(loopy_n, df_chunks), ignore_index = True)"
   ]
  },
  {
   "cell_type": "code",
   "execution_count": null,
   "metadata": {},
   "outputs": [],
   "source": [
    "night_precip_df = precip_night_df.loc[precip_night_df['is_night'].notnull()]\n",
    "night_precip_df"
   ]
  },
  {
   "cell_type": "code",
   "execution_count": null,
   "metadata": {},
   "outputs": [],
   "source": [
    "# change index\n",
    "night_precip_df['index'] = list(range(0,len(night_precip_df)))"
   ]
  },
  {
   "cell_type": "code",
   "execution_count": null,
   "metadata": {},
   "outputs": [],
   "source": [
    "# save df\n",
    "night_precip_df.to_pickle(\"../DFs/night_precip_df.pkl\")"
   ]
  },
  {
   "cell_type": "code",
   "execution_count": null,
   "metadata": {},
   "outputs": [],
   "source": [
    "# should be colored\n",
    "img = mpimg.imread(night_precip_df['img_path'].iloc[1034])\n",
    "plt.imshow(img)\n",
    "\n",
    "plt.show()"
   ]
  },
  {
   "cell_type": "markdown",
   "metadata": {},
   "source": [
    "## Working with No Preicp DF"
   ]
  },
  {
   "cell_type": "code",
   "execution_count": null,
   "metadata": {},
   "outputs": [],
   "source": [
    "# first filter out rows without a path for precip\n",
    "NUM_CORES = 10\n",
    "df_chunks = np.array_split(no_precip_df, NUM_CORES)\n",
    "\n",
    "with multiprocessing.Pool(NUM_CORES) as pool:\n",
    "    no_df = pd.concat(pool.map(loopy, df_chunks), ignore_index = True)"
   ]
  },
  {
   "cell_type": "code",
   "execution_count": null,
   "metadata": {},
   "outputs": [],
   "source": [
    "len(no_df)"
   ]
  },
  {
   "cell_type": "code",
   "execution_count": null,
   "metadata": {
    "tags": []
   },
   "outputs": [],
   "source": [
    "#filter out images with no path\n",
    "no_precip_df_images = no_df.loc[no_df['img_path'].notnull()]\n",
    "no_precip_df_images"
   ]
  },
  {
   "cell_type": "code",
   "execution_count": null,
   "metadata": {},
   "outputs": [],
   "source": [
    "# open DF\n",
    "no_precip_df_images = pd.read_pickle(\"../DFs/no_precip_df_images.pkl\")"
   ]
  },
  {
   "cell_type": "code",
   "execution_count": null,
   "metadata": {},
   "outputs": [],
   "source": [
    "# change index\n",
    "no_precip_df_images['index'] = list(range(0,len(no_precip_df_images)))"
   ]
  },
  {
   "cell_type": "code",
   "execution_count": null,
   "metadata": {},
   "outputs": [],
   "source": [
    "# save no_precip_df_images\n",
    "no_precip_df_images.to_pickle(\"DFs/no_precip_df_images.pkl\")"
   ]
  },
  {
   "cell_type": "code",
   "execution_count": null,
   "metadata": {},
   "outputs": [],
   "source": [
    "no_precip_df_images = pd.read_pickle(\"DFs/no_precip_df_images.pkl\")"
   ]
  },
  {
   "cell_type": "code",
   "execution_count": null,
   "metadata": {},
   "outputs": [],
   "source": [
    "# next filter out day vs night for no precip\n",
    "NUM_CORES = 10\n",
    "df_chunks = np.array_split(no_precip_df_images, NUM_CORES)\n",
    "\n",
    "with multiprocessing.Pool(NUM_CORES) as pool:\n",
    "    no_day_df = pd.concat(pool.map(loopy_d, df_chunks), ignore_index = True)"
   ]
  },
  {
   "cell_type": "code",
   "execution_count": null,
   "metadata": {},
   "outputs": [],
   "source": [
    "day_no_precip_df = no_day_df.loc[no_day_df['is_day'].notnull()]\n",
    "day_no_precip_df"
   ]
  },
  {
   "cell_type": "code",
   "execution_count": null,
   "metadata": {},
   "outputs": [],
   "source": [
    "# night filter\n",
    "NUM_CORES = 10\n",
    "df_chunks = np.array_split(no_precip_df_images, NUM_CORES)\n",
    "\n",
    "with multiprocessing.Pool(NUM_CORES) as pool:\n",
    "    no_night_df = pd.concat(pool.map(loopy_n, df_chunks), ignore_index = True)"
   ]
  },
  {
   "cell_type": "code",
   "execution_count": null,
   "metadata": {},
   "outputs": [],
   "source": [
    "night_no_precip_df = no_night_df.loc[no_night_df['is_night'].notnull()]\n",
    "night_no_precip_df"
   ]
  },
  {
   "cell_type": "code",
   "execution_count": null,
   "metadata": {},
   "outputs": [],
   "source": [
    "# change index\n",
    "night_no_precip_df['index'] = list(range(0,len(night_no_precip_df)))"
   ]
  },
  {
   "cell_type": "code",
   "execution_count": null,
   "metadata": {},
   "outputs": [],
   "source": [
    "night_no_precip"
   ]
  }
 ],
 "metadata": {
  "kernelspec": {
   "display_name": "Python 3",
   "language": "python",
   "name": "python3"
  },
  "language_info": {
   "codemirror_mode": {
    "name": "ipython",
    "version": 3
   },
   "file_extension": ".py",
   "mimetype": "text/x-python",
   "name": "python",
   "nbconvert_exporter": "python",
   "pygments_lexer": "ipython3",
   "version": "3.6.9"
  }
 },
 "nbformat": 4,
 "nbformat_minor": 4
}
